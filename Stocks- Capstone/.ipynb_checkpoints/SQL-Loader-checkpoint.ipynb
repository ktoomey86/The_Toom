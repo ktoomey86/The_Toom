{
 "cells": [
  {
   "cell_type": "code",
   "execution_count": 1,
   "metadata": {
    "collapsed": false
   },
   "outputs": [
    {
     "name": "stderr",
     "output_type": "stream",
     "text": [
      "/Users/kyletoomey/anaconda/lib/python2.7/site-packages/IPython/config.py:13: ShimWarning: The `IPython.config` package has been deprecated. You should import from traitlets.config instead.\n",
      "  \"You should import from traitlets.config instead.\", ShimWarning)\n",
      "/Users/kyletoomey/anaconda/lib/python2.7/site-packages/IPython/utils/traitlets.py:5: UserWarning: IPython.utils.traitlets has moved to a top-level traitlets package.\n",
      "  warn(\"IPython.utils.traitlets has moved to a top-level traitlets package.\")\n"
     ]
    }
   ],
   "source": [
    "from sqlalchemy import create_engine\n",
    "import pandas as pd\n",
    "import pandas_datareader.data as web\n",
    "from datetime import timedelta\n",
    "import datetime\n",
    "%load_ext sql\n",
    "engine = create_engine('postgresql://localhost:5432/kylesdb')"
   ]
  },
  {
   "cell_type": "code",
   "execution_count": 2,
   "metadata": {
    "collapsed": false
   },
   "outputs": [],
   "source": [
    "start = datetime.datetime(2015,01,01)\n",
    "end = datetime.datetime.now()\n",
    "\n",
    "Tesla = web.DataReader('tsla','google',start,end)\n",
    "GM = web.DataReader('GM','google',start,end)\n",
    "Ford = web.DataReader('F','google',start,end)\n",
    "Daimler = web.DataReader('DDAIF','google',start,end)\n",
    "Toyota = web.DataReader('TM','google',start,end)\n",
    "Solar = web.DataReader('SCTY', 'google', start, end)\n",
    "SP_500 = web.DataReader('^GSPC', 'yahoo', start, end)\n",
    "Nasdaq = web.DataReader('^IXIC', 'yahoo', start, end)"
   ]
  },
  {
   "cell_type": "code",
   "execution_count": 3,
   "metadata": {
    "collapsed": false
   },
   "outputs": [
    {
     "data": {
      "text/html": [
       "<div>\n",
       "<table border=\"1\" class=\"dataframe\">\n",
       "  <thead>\n",
       "    <tr style=\"text-align: right;\">\n",
       "      <th></th>\n",
       "      <th>Open</th>\n",
       "      <th>High</th>\n",
       "      <th>Low</th>\n",
       "      <th>Close</th>\n",
       "      <th>Volume</th>\n",
       "    </tr>\n",
       "    <tr>\n",
       "      <th>Date</th>\n",
       "      <th></th>\n",
       "      <th></th>\n",
       "      <th></th>\n",
       "      <th></th>\n",
       "      <th></th>\n",
       "    </tr>\n",
       "  </thead>\n",
       "  <tbody>\n",
       "    <tr>\n",
       "      <th>2015-01-02</th>\n",
       "      <td>222.87</td>\n",
       "      <td>223.25</td>\n",
       "      <td>213.26</td>\n",
       "      <td>219.31</td>\n",
       "      <td>4764443</td>\n",
       "    </tr>\n",
       "    <tr>\n",
       "      <th>2015-01-05</th>\n",
       "      <td>214.55</td>\n",
       "      <td>216.50</td>\n",
       "      <td>207.16</td>\n",
       "      <td>210.09</td>\n",
       "      <td>5368477</td>\n",
       "    </tr>\n",
       "    <tr>\n",
       "      <th>2015-01-06</th>\n",
       "      <td>210.06</td>\n",
       "      <td>214.20</td>\n",
       "      <td>204.21</td>\n",
       "      <td>211.28</td>\n",
       "      <td>6261936</td>\n",
       "    </tr>\n",
       "    <tr>\n",
       "      <th>2015-01-07</th>\n",
       "      <td>213.35</td>\n",
       "      <td>214.78</td>\n",
       "      <td>209.78</td>\n",
       "      <td>210.95</td>\n",
       "      <td>2968390</td>\n",
       "    </tr>\n",
       "    <tr>\n",
       "      <th>2015-01-08</th>\n",
       "      <td>212.81</td>\n",
       "      <td>213.80</td>\n",
       "      <td>210.01</td>\n",
       "      <td>210.62</td>\n",
       "      <td>3442509</td>\n",
       "    </tr>\n",
       "  </tbody>\n",
       "</table>\n",
       "</div>"
      ],
      "text/plain": [
       "              Open    High     Low   Close   Volume\n",
       "Date                                               \n",
       "2015-01-02  222.87  223.25  213.26  219.31  4764443\n",
       "2015-01-05  214.55  216.50  207.16  210.09  5368477\n",
       "2015-01-06  210.06  214.20  204.21  211.28  6261936\n",
       "2015-01-07  213.35  214.78  209.78  210.95  2968390\n",
       "2015-01-08  212.81  213.80  210.01  210.62  3442509"
      ]
     },
     "execution_count": 3,
     "metadata": {},
     "output_type": "execute_result"
    }
   ],
   "source": [
    "Tesla.head()"
   ]
  },
  {
   "cell_type": "code",
   "execution_count": 4,
   "metadata": {
    "collapsed": false
   },
   "outputs": [],
   "source": [
    "pd.DataFrame.to_sql(Tesla, 'tesla', engine, if_exists='replace', index='Date')\n",
    "pd.DataFrame.to_sql(GM, 'GM', engine, if_exists='replace', index='Date')\n",
    "pd.DataFrame.to_sql(Ford, 'ford', engine, if_exists='replace', index='Date')\n",
    "pd.DataFrame.to_sql(Daimler, 'daimler', engine, if_exists='replace', index='Date')\n",
    "pd.DataFrame.to_sql(Toyota, 'toyota', engine, if_exists='replace', index='Date')\n",
    "pd.DataFrame.to_sql(Solar, 'solar', engine, if_exists='replace', index='Date')\n",
    "pd.DataFrame.to_sql(SP_500, 'sp_500', engine, if_exists='replace', index='Date')\n",
    "pd.DataFrame.to_sql(Nasdaq, 'nasdaq', engine, if_exists='replace', index='Date')"
   ]
  },
  {
   "cell_type": "code",
   "execution_count": 5,
   "metadata": {
    "collapsed": false
   },
   "outputs": [],
   "source": [
    "# %%sql postgresql://localhost:5432/kylesdb\n",
    "\n",
    "# SELECT * FROM tesla\n",
    "# LEFT JOIN ford ON tesla.Date;"
   ]
  },
  {
   "cell_type": "code",
   "execution_count": 6,
   "metadata": {
    "collapsed": false
   },
   "outputs": [],
   "source": [
    "# %%sql postgresql://localhost:5432/kylesdb\n",
    "\n",
    "# DROP TABLE IF EXISTS master;\n",
    "# CREATE TABLE master\n",
    "# (date varchar,\n",
    "#  T_open varchar,\n",
    "#  departure_cancellations varchar,\n",
    "#  arrival_cancellations varchar,\n",
    "#  departure_diversions varchar,\n",
    "#  arrival_diversions varchar);"
   ]
  }
 ],
 "metadata": {
  "anaconda-cloud": {},
  "kernelspec": {
   "display_name": "Python [Root]",
   "language": "python",
   "name": "Python [Root]"
  },
  "language_info": {
   "codemirror_mode": {
    "name": "ipython",
    "version": 2
   },
   "file_extension": ".py",
   "mimetype": "text/x-python",
   "name": "python",
   "nbconvert_exporter": "python",
   "pygments_lexer": "ipython2",
   "version": "2.7.12"
  }
 },
 "nbformat": 4,
 "nbformat_minor": 0
}
