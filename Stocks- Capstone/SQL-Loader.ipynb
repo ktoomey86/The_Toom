{
 "cells": [
  {
   "cell_type": "code",
   "execution_count": 1,
   "metadata": {
    "collapsed": false
   },
   "outputs": [
    {
     "name": "stderr",
     "output_type": "stream",
     "text": [
      "/Users/kyletoomey/anaconda/lib/python2.7/site-packages/IPython/config.py:13: ShimWarning: The `IPython.config` package has been deprecated. You should import from traitlets.config instead.\n",
      "  \"You should import from traitlets.config instead.\", ShimWarning)\n",
      "/Users/kyletoomey/anaconda/lib/python2.7/site-packages/IPython/utils/traitlets.py:5: UserWarning: IPython.utils.traitlets has moved to a top-level traitlets package.\n",
      "  warn(\"IPython.utils.traitlets has moved to a top-level traitlets package.\")\n"
     ]
    }
   ],
   "source": [
    "from sqlalchemy import create_engine\n",
    "import pandas as pd\n",
    "import pandas_datareader.data as web\n",
    "from datetime import timedelta\n",
    "import datetime\n",
    "%load_ext sql\n",
    "engine = create_engine('postgresql://localhost:5432/kylesdb')"
   ]
  },
  {
   "cell_type": "code",
   "execution_count": 2,
   "metadata": {
    "collapsed": false
   },
   "outputs": [],
   "source": [
    "start = datetime.datetime(2015,01,01)\n",
    "end = datetime.datetime.now()\n",
    "\n",
    "Tesla = web.DataReader('tsla','google',start,end)\n",
    "GM = web.DataReader('GM','google',start,end)\n",
    "Ford = web.DataReader('F','google',start,end)\n",
    "Daimler = web.DataReader('DDAIF','google',start,end)\n",
    "Toyota = web.DataReader('TM','google',start,end)\n",
    "Solar = web.DataReader('SCTY', 'google', start, end)\n",
    "SP_500 = web.DataReader('^GSPC', 'yahoo', start, end)\n",
    "Nasdaq = web.DataReader('^IXIC', 'yahoo', start, end)"
   ]
  },
  {
   "cell_type": "code",
   "execution_count": 3,
   "metadata": {
    "collapsed": false
   },
   "outputs": [
    {
     "data": {
      "text/html": [
       "<div>\n",
       "<table border=\"1\" class=\"dataframe\">\n",
       "  <thead>\n",
       "    <tr style=\"text-align: right;\">\n",
       "      <th></th>\n",
       "      <th>Open</th>\n",
       "      <th>High</th>\n",
       "      <th>Low</th>\n",
       "      <th>Close</th>\n",
       "      <th>Volume</th>\n",
       "    </tr>\n",
       "    <tr>\n",
       "      <th>Date</th>\n",
       "      <th></th>\n",
       "      <th></th>\n",
       "      <th></th>\n",
       "      <th></th>\n",
       "      <th></th>\n",
       "    </tr>\n",
       "  </thead>\n",
       "  <tbody>\n",
       "    <tr>\n",
       "      <th>2016-10-11</th>\n",
       "      <td>201.85</td>\n",
       "      <td>202.20</td>\n",
       "      <td>198.31</td>\n",
       "      <td>200.10</td>\n",
       "      <td>2328422</td>\n",
       "    </tr>\n",
       "    <tr>\n",
       "      <th>2016-10-12</th>\n",
       "      <td>200.95</td>\n",
       "      <td>203.88</td>\n",
       "      <td>200.42</td>\n",
       "      <td>201.51</td>\n",
       "      <td>1970689</td>\n",
       "    </tr>\n",
       "    <tr>\n",
       "      <th>2016-10-13</th>\n",
       "      <td>200.50</td>\n",
       "      <td>200.90</td>\n",
       "      <td>197.05</td>\n",
       "      <td>200.24</td>\n",
       "      <td>2495413</td>\n",
       "    </tr>\n",
       "    <tr>\n",
       "      <th>2016-10-14</th>\n",
       "      <td>200.66</td>\n",
       "      <td>201.43</td>\n",
       "      <td>196.30</td>\n",
       "      <td>196.51</td>\n",
       "      <td>4269850</td>\n",
       "    </tr>\n",
       "    <tr>\n",
       "      <th>2016-10-17</th>\n",
       "      <td>197.05</td>\n",
       "      <td>198.39</td>\n",
       "      <td>192.00</td>\n",
       "      <td>193.96</td>\n",
       "      <td>4554080</td>\n",
       "    </tr>\n",
       "  </tbody>\n",
       "</table>\n",
       "</div>"
      ],
      "text/plain": [
       "              Open    High     Low   Close   Volume\n",
       "Date                                               \n",
       "2016-10-11  201.85  202.20  198.31  200.10  2328422\n",
       "2016-10-12  200.95  203.88  200.42  201.51  1970689\n",
       "2016-10-13  200.50  200.90  197.05  200.24  2495413\n",
       "2016-10-14  200.66  201.43  196.30  196.51  4269850\n",
       "2016-10-17  197.05  198.39  192.00  193.96  4554080"
      ]
     },
     "execution_count": 3,
     "metadata": {},
     "output_type": "execute_result"
    }
   ],
   "source": [
    "Tesla.tail()"
   ]
  },
  {
   "cell_type": "code",
   "execution_count": 4,
   "metadata": {
    "collapsed": false
   },
   "outputs": [],
   "source": [
    "pd.DataFrame.to_sql(Tesla, 'tesla', engine, if_exists='replace', index='Date')\n",
    "pd.DataFrame.to_sql(GM, 'GM', engine, if_exists='replace', index='Date')\n",
    "pd.DataFrame.to_sql(Ford, 'ford', engine, if_exists='replace', index='Date')\n",
    "pd.DataFrame.to_sql(Daimler, 'daimler', engine, if_exists='replace', index='Date')\n",
    "pd.DataFrame.to_sql(Toyota, 'toyota', engine, if_exists='replace', index='Date')\n",
    "pd.DataFrame.to_sql(Solar, 'solar', engine, if_exists='replace', index='Date')\n",
    "pd.DataFrame.to_sql(SP_500, 'sp_500', engine, if_exists='replace', index='Date')\n",
    "pd.DataFrame.to_sql(Nasdaq, 'nasdaq', engine, if_exists='replace', index='Date')"
   ]
  },
  {
   "cell_type": "code",
   "execution_count": 5,
   "metadata": {
    "collapsed": false
   },
   "outputs": [],
   "source": [
    "# %%sql postgresql://localhost:5432/kylesdb\n",
    "\n",
    "# SELECT * FROM tesla\n",
    "# LEFT JOIN ford ON tesla.Date;"
   ]
  },
  {
   "cell_type": "code",
   "execution_count": 6,
   "metadata": {
    "collapsed": false
   },
   "outputs": [],
   "source": [
    "# %%sql postgresql://localhost:5432/kylesdb\n",
    "\n",
    "# DROP TABLE IF EXISTS master;\n",
    "# CREATE TABLE master\n",
    "# (date varchar,\n",
    "#  T_open varchar,\n",
    "#  departure_cancellations varchar,\n",
    "#  arrival_cancellations varchar,\n",
    "#  departure_diversions varchar,\n",
    "#  arrival_diversions varchar);"
   ]
  }
 ],
 "metadata": {
  "anaconda-cloud": {},
  "kernelspec": {
   "display_name": "Python [Root]",
   "language": "python",
   "name": "Python [Root]"
  },
  "language_info": {
   "codemirror_mode": {
    "name": "ipython",
    "version": 2
   },
   "file_extension": ".py",
   "mimetype": "text/x-python",
   "name": "python",
   "nbconvert_exporter": "python",
   "pygments_lexer": "ipython2",
   "version": "2.7.12"
  }
 },
 "nbformat": 4,
 "nbformat_minor": 0
}
