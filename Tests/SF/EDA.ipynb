{
 "cells": [
  {
   "cell_type": "code",
   "execution_count": 1,
   "metadata": {
    "collapsed": true
   },
   "outputs": [],
   "source": [
    "import pandas as pd\n",
    "import numpy as np\n",
    "import datetime"
   ]
  },
  {
   "cell_type": "code",
   "execution_count": 2,
   "metadata": {
    "collapsed": false
   },
   "outputs": [
    {
     "name": "stdout",
     "output_type": "stream",
     "text": [
      "CPM by holiday/non-holiday:\n",
      "\n",
      "Holiday CPM: 19.1263117087 Non-Holiday CPM: 17.9151475276\n",
      "\n",
      "\n",
      "\n"
     ]
    },
    {
     "name": "stderr",
     "output_type": "stream",
     "text": [
      "/Users/kyletoomey/anaconda/lib/python2.7/site-packages/ipykernel/__main__.py:4: SettingWithCopyWarning: \n",
      "A value is trying to be set on a copy of a slice from a DataFrame.\n",
      "Try using .loc[row_indexer,col_indexer] = value instead\n",
      "\n",
      "See the caveats in the documentation: http://pandas.pydata.org/pandas-docs/stable/indexing.html#indexing-view-versus-copy\n"
     ]
    }
   ],
   "source": [
    "df= pd.read_csv('sample_dataset.csv')\n",
    "holidays = pd.read_csv('bank_holidays.csv')\n",
    "bank_holidays=holidays[holidays.Type == \"Bank Holiday\"]\n",
    "bank_holidays['Date']=pd.to_datetime(bank_holidays.Date)\n",
    "df['date']=pd.to_datetime(df.date)\n",
    "df[\"CPM\"] = df.spend/(df.impressions/1000)\n",
    "df['CPC']= df.spend/df.clicks\n",
    "merged=pd.merge(df,bank_holidays, how='left', left_on=df.date, right_on=bank_holidays.Date)\n",
    "Holidays= merged[merged['Bank Holiday']==True]\n",
    "Non_holidays= merged[merged['Bank Holiday']!=True]\n",
    "\n",
    "holiday_cpm= np.mean(Holidays['CPM'])\n",
    "non_holiday_cpm=np.mean(Non_holidays['CPM'])\n",
    "\n",
    "print 'CPM by holiday/non-holiday:\\n'\n",
    "print 'Holiday CPM:',holiday_cpm,'Non-Holiday CPM:',non_holiday_cpm\n",
    "print '\\n\\n'"
   ]
  },
  {
   "cell_type": "code",
   "execution_count": 3,
   "metadata": {
    "collapsed": false
   },
   "outputs": [
    {
     "name": "stdout",
     "output_type": "stream",
     "text": [
      "Highest and lowest CPM:\n",
      "\n",
      "High:                                   CPM\n",
      "audience                             \n",
      "none/submitapp180/18+/none  55.396815 \n",
      "Low                                           CPM\n",
      "audience                                     \n",
      "none/wholesite180/min_18-64bos/none  1.147727\n",
      "\n",
      "\n",
      "\n"
     ]
    }
   ],
   "source": [
    "CPM=df[['audience','CPM']].groupby(by=['audience']).mean().sort_values(['CPM'], ascending=False)\n",
    "cpm_audience_high=CPM.ix[:1]\n",
    "cpm_audience_low=CPM.ix[-1:]\n",
    "print 'Highest and lowest CPM:\\n'\n",
    "print 'High:',cpm_audience_high,'\\n''Low',cpm_audience_low\n",
    "print '\\n\\n'"
   ]
  },
  {
   "cell_type": "code",
   "execution_count": 4,
   "metadata": {
    "collapsed": false
   },
   "outputs": [
    {
     "name": "stdout",
     "output_type": "stream",
     "text": [
      "Highest and lowest CPC:\n",
      "\n",
      "High:                                              CPC\n",
      "audience                                       \n",
      "none/launchappemaillist2.12.16/18+/none  18.257 \n",
      " Low:                                          CPC\n",
      "audience                                   \n",
      "none/wholesite180/f_18-64bos/none  0.309375\n",
      "\n",
      "\n",
      "\n"
     ]
    }
   ],
   "source": [
    "no_click=df[df.clicks>0]\n",
    "CPC=no_click[['audience','CPC']].groupby(by=['audience']).mean().sort_values(['CPC'], ascending=False)\n",
    "cpc_audience_high=CPC.ix[:1]\n",
    "cpc_audience_low=CPC.ix[-1:]\n",
    "print 'Highest and lowest CPC:\\n'\n",
    "print 'High: ',cpc_audience_high,'\\n'' Low: ', cpc_audience_low\n",
    "print '\\n\\n'"
   ]
  },
  {
   "cell_type": "code",
   "execution_count": 5,
   "metadata": {
    "collapsed": false
   },
   "outputs": [
    {
     "name": "stdout",
     "output_type": "stream",
     "text": [
      "Highest and lowest pixel_5:\n",
      "\n",
      "High:                                                CPP5\n",
      "audience                                          \n",
      "none/none/liberalartsschools_24_40/none  80.968333 \n",
      " Low:                                  CPP5\n",
      "audience                            \n",
      "none/alum_emails/none/none  0.408571\n",
      "\n",
      "\n",
      "\n"
     ]
    },
    {
     "name": "stderr",
     "output_type": "stream",
     "text": [
      "/Users/kyletoomey/anaconda/lib/python2.7/site-packages/ipykernel/__main__.py:2: SettingWithCopyWarning: \n",
      "A value is trying to be set on a copy of a slice from a DataFrame.\n",
      "Try using .loc[row_indexer,col_indexer] = value instead\n",
      "\n",
      "See the caveats in the documentation: http://pandas.pydata.org/pandas-docs/stable/indexing.html#indexing-view-versus-copy\n",
      "  from ipykernel import kernelapp as app\n"
     ]
    }
   ],
   "source": [
    "no_pix5_zero=df[df.pixel_5>0]\n",
    "no_pix5_zero['CPP5']=no_pix5_zero.spend/no_pix5_zero.pixel_5\n",
    "pixel5=no_pix5_zero[['audience','CPP5']].groupby(by=['audience']).mean().sort_values(['CPP5'], ascending=False)\n",
    "pixel5_audience_high=pixel5.ix[:1]\n",
    "pixel5_audience_low=pixel5.ix[-1:]\n",
    "print 'Highest and lowest pixel_5:\\n'\n",
    "print 'High: ',pixel5_audience_high,'\\n'' Low: ',pixel5_audience_low\n",
    "print '\\n\\n'"
   ]
  },
  {
   "cell_type": "code",
   "execution_count": 6,
   "metadata": {
    "collapsed": false
   },
   "outputs": [
    {
     "name": "stdout",
     "output_type": "stream",
     "text": [
      "Highest and lowest pixel_10:\n",
      "\n",
      "High:                                      CPP10\n",
      "audience                                 \n",
      "none//18-64/look1_e_parttimemql8.5   83.0 \n",
      " Low:                                      CPP10\n",
      "audience                                 \n",
      "none/wholesite180/18-64bos/none  0.113333\n",
      "\n",
      "\n",
      "\n"
     ]
    },
    {
     "name": "stderr",
     "output_type": "stream",
     "text": [
      "/Users/kyletoomey/anaconda/lib/python2.7/site-packages/ipykernel/__main__.py:2: SettingWithCopyWarning: \n",
      "A value is trying to be set on a copy of a slice from a DataFrame.\n",
      "Try using .loc[row_indexer,col_indexer] = value instead\n",
      "\n",
      "See the caveats in the documentation: http://pandas.pydata.org/pandas-docs/stable/indexing.html#indexing-view-versus-copy\n",
      "  from ipykernel import kernelapp as app\n"
     ]
    }
   ],
   "source": [
    "no_pix10_zero=df[df.pixel_10>0]\n",
    "no_pix10_zero['CPP10']=no_pix10_zero.spend/no_pix10_zero.pixel_10\n",
    "pixel10=no_pix10_zero[['audience','CPP10']].groupby(by=['audience']).mean().sort_values(['CPP10'], ascending=False)\n",
    "pixel10_audience_high=pixel10.ix[:1]\n",
    "pixel10_audience_low=pixel10.ix[-1:]\n",
    "print 'Highest and lowest pixel_10:\\n'\n",
    "print 'High: ',pixel10_audience_high,'\\n'' Low: ',pixel10_audience_low\n",
    "print '\\n\\n'"
   ]
  },
  {
   "cell_type": "code",
   "execution_count": null,
   "metadata": {
    "collapsed": true
   },
   "outputs": [],
   "source": []
  }
 ],
 "metadata": {
  "kernelspec": {
   "display_name": "Python [Root]",
   "language": "python",
   "name": "Python [Root]"
  },
  "language_info": {
   "codemirror_mode": {
    "name": "ipython",
    "version": 2
   },
   "file_extension": ".py",
   "mimetype": "text/x-python",
   "name": "python",
   "nbconvert_exporter": "python",
   "pygments_lexer": "ipython2",
   "version": "2.7.12"
  }
 },
 "nbformat": 4,
 "nbformat_minor": 0
}
