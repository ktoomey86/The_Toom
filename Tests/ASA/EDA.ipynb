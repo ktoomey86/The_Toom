{
 "cells": [
  {
   "cell_type": "code",
   "execution_count": 1,
   "metadata": {
    "collapsed": true
   },
   "outputs": [],
   "source": [
    "import pandas as pd\n",
    "import numpy as np\n",
    "import matplotlib.pyplot as plt\n",
    "%matplotlib inline"
   ]
  },
  {
   "cell_type": "markdown",
   "metadata": {},
   "source": [
    "## Exploratory Data Analysis##"
   ]
  },
  {
   "cell_type": "code",
   "execution_count": 2,
   "metadata": {
    "collapsed": false
   },
   "outputs": [
    {
     "data": {
      "text/html": [
       "<div>\n",
       "<table border=\"1\" class=\"dataframe\">\n",
       "  <thead>\n",
       "    <tr style=\"text-align: right;\">\n",
       "      <th></th>\n",
       "      <th>OPEID</th>\n",
       "      <th>Name</th>\n",
       "      <th>Address</th>\n",
       "      <th>City</th>\n",
       "      <th>State</th>\n",
       "      <th>State Desc</th>\n",
       "      <th>Zip Code</th>\n",
       "      <th>Zip Ext</th>\n",
       "      <th>Prog\n",
       "Length</th>\n",
       "      <th>School\n",
       "Type</th>\n",
       "      <th>...</th>\n",
       "      <th>Year 2</th>\n",
       "      <th>Dual\n",
       "Num 2</th>\n",
       "      <th>Dual\n",
       "Denom 2</th>\n",
       "      <th>DRate 2</th>\n",
       "      <th>PRate 2</th>\n",
       "      <th>Year 3</th>\n",
       "      <th>Dual\n",
       "Num 3</th>\n",
       "      <th>Dual\n",
       "Denom 3</th>\n",
       "      <th>DRate 3</th>\n",
       "      <th>PRate 3</th>\n",
       "    </tr>\n",
       "  </thead>\n",
       "  <tbody>\n",
       "    <tr>\n",
       "      <th>0</th>\n",
       "      <td>41176</td>\n",
       "      <td>LARRY'S BARBER COLLEGE                        ...</td>\n",
       "      <td>10456 S. HALSTED STREET                       ...</td>\n",
       "      <td>CHICAGO</td>\n",
       "      <td>IL</td>\n",
       "      <td>ILLINOIS                                      ...</td>\n",
       "      <td>60628</td>\n",
       "      <td>2322</td>\n",
       "      <td>3</td>\n",
       "      <td>3</td>\n",
       "      <td>...</td>\n",
       "      <td>2012</td>\n",
       "      <td>1.0</td>\n",
       "      <td>2.0</td>\n",
       "      <td>50.0</td>\n",
       "      <td>B</td>\n",
       "      <td>2011</td>\n",
       "      <td>0.0</td>\n",
       "      <td>0.0</td>\n",
       "      <td>0.0</td>\n",
       "      <td>A</td>\n",
       "    </tr>\n",
       "    <tr>\n",
       "      <th>1</th>\n",
       "      <td>41480</td>\n",
       "      <td>NEW LIFE BUSINESS INSTITUTE                   ...</td>\n",
       "      <td>161-10 JAMAICA AVENUE              SUITE 404  ...</td>\n",
       "      <td>JAMAICA</td>\n",
       "      <td>NY</td>\n",
       "      <td>NEW YORK                                      ...</td>\n",
       "      <td>11432</td>\n",
       "      <td>6149</td>\n",
       "      <td>3</td>\n",
       "      <td>3</td>\n",
       "      <td>...</td>\n",
       "      <td>2012</td>\n",
       "      <td>90.0</td>\n",
       "      <td>235.0</td>\n",
       "      <td>38.2</td>\n",
       "      <td>A</td>\n",
       "      <td>2011</td>\n",
       "      <td>59.0</td>\n",
       "      <td>182.0</td>\n",
       "      <td>32.4</td>\n",
       "      <td>A</td>\n",
       "    </tr>\n",
       "    <tr>\n",
       "      <th>2</th>\n",
       "      <td>36803</td>\n",
       "      <td>JAY'S TECHNICAL INSTITUTE                     ...</td>\n",
       "      <td>11910 FONDREN MEADOW DR.                      ...</td>\n",
       "      <td>HOUSTON</td>\n",
       "      <td>TX</td>\n",
       "      <td>TEXAS                                         ...</td>\n",
       "      <td>77071</td>\n",
       "      <td>3509</td>\n",
       "      <td>3</td>\n",
       "      <td>3</td>\n",
       "      <td>...</td>\n",
       "      <td>2012</td>\n",
       "      <td>35.0</td>\n",
       "      <td>67.0</td>\n",
       "      <td>52.2</td>\n",
       "      <td>A</td>\n",
       "      <td>2011</td>\n",
       "      <td>37.0</td>\n",
       "      <td>91.0</td>\n",
       "      <td>40.6</td>\n",
       "      <td>A</td>\n",
       "    </tr>\n",
       "    <tr>\n",
       "      <th>3</th>\n",
       "      <td>22429</td>\n",
       "      <td>UNITED TRIBES TECHNICAL COLLEGE               ...</td>\n",
       "      <td>3315 UNIVERSITY DRIVE                         ...</td>\n",
       "      <td>BISMARCK</td>\n",
       "      <td>ND</td>\n",
       "      <td>NORTH DAKOTA                                  ...</td>\n",
       "      <td>58504</td>\n",
       "      <td>7596</td>\n",
       "      <td>6</td>\n",
       "      <td>2</td>\n",
       "      <td>...</td>\n",
       "      <td>2012</td>\n",
       "      <td>61.0</td>\n",
       "      <td>138.0</td>\n",
       "      <td>44.2</td>\n",
       "      <td>A</td>\n",
       "      <td>2011</td>\n",
       "      <td>19.0</td>\n",
       "      <td>43.0</td>\n",
       "      <td>44.1</td>\n",
       "      <td>A</td>\n",
       "    </tr>\n",
       "    <tr>\n",
       "      <th>4</th>\n",
       "      <td>2934</td>\n",
       "      <td>ISOTHERMAL COMMUNITY COLLEGE                  ...</td>\n",
       "      <td>286 ICC LOOP ROAD                             ...</td>\n",
       "      <td>SPINDALE</td>\n",
       "      <td>NC</td>\n",
       "      <td>NORTH CAROLINA                                ...</td>\n",
       "      <td>28160</td>\n",
       "      <td>0804</td>\n",
       "      <td>5</td>\n",
       "      <td>1</td>\n",
       "      <td>...</td>\n",
       "      <td>2012</td>\n",
       "      <td>15.0</td>\n",
       "      <td>19.0</td>\n",
       "      <td>78.9</td>\n",
       "      <td>B</td>\n",
       "      <td>2011</td>\n",
       "      <td>0.0</td>\n",
       "      <td>0.0</td>\n",
       "      <td>0.0</td>\n",
       "      <td>A</td>\n",
       "    </tr>\n",
       "  </tbody>\n",
       "</table>\n",
       "<p>5 rows × 30 columns</p>\n",
       "</div>"
      ],
      "text/plain": [
       "   OPEID                                               Name  \\\n",
       "0  41176  LARRY'S BARBER COLLEGE                        ...   \n",
       "1  41480  NEW LIFE BUSINESS INSTITUTE                   ...   \n",
       "2  36803  JAY'S TECHNICAL INSTITUTE                     ...   \n",
       "3  22429  UNITED TRIBES TECHNICAL COLLEGE               ...   \n",
       "4   2934  ISOTHERMAL COMMUNITY COLLEGE                  ...   \n",
       "\n",
       "                                             Address                  City  \\\n",
       "0  10456 S. HALSTED STREET                       ...  CHICAGO                \n",
       "1  161-10 JAMAICA AVENUE              SUITE 404  ...  JAMAICA                \n",
       "2  11910 FONDREN MEADOW DR.                      ...  HOUSTON                \n",
       "3  3315 UNIVERSITY DRIVE                         ...  BISMARCK               \n",
       "4  286 ICC LOOP ROAD                             ...  SPINDALE               \n",
       "\n",
       "  State                                         State Desc Zip Code Zip Ext  \\\n",
       "0    IL  ILLINOIS                                      ...    60628    2322   \n",
       "1    NY  NEW YORK                                      ...    11432    6149   \n",
       "2    TX  TEXAS                                         ...    77071    3509   \n",
       "3    ND  NORTH DAKOTA                                  ...    58504    7596   \n",
       "4    NC  NORTH CAROLINA                                ...    28160    0804   \n",
       "\n",
       "   Prog\\nLength  School\\nType   ...    Year 2  Dual\\nNum 2  Dual\\nDenom 2  \\\n",
       "0             3             3   ...      2012          1.0            2.0   \n",
       "1             3             3   ...      2012         90.0          235.0   \n",
       "2             3             3   ...      2012         35.0           67.0   \n",
       "3             6             2   ...      2012         61.0          138.0   \n",
       "4             5             1   ...      2012         15.0           19.0   \n",
       "\n",
       "   DRate 2 PRate 2  Year 3 Dual\\nNum 3  Dual\\nDenom 3  DRate 3 PRate 3  \n",
       "0     50.0       B    2011         0.0            0.0      0.0       A  \n",
       "1     38.2       A    2011        59.0          182.0     32.4       A  \n",
       "2     52.2       A    2011        37.0           91.0     40.6       A  \n",
       "3     44.2       A    2011        19.0           43.0     44.1       A  \n",
       "4     78.9       B    2011         0.0            0.0      0.0       A  \n",
       "\n",
       "[5 rows x 30 columns]"
      ]
     },
     "execution_count": 2,
     "metadata": {},
     "output_type": "execute_result"
    }
   ],
   "source": [
    "dataframe=pd.read_excel('peps300.xlsx')\n",
    "\n",
    "dataframe.head()"
   ]
  },
  {
   "cell_type": "code",
   "execution_count": 3,
   "metadata": {
    "collapsed": false
   },
   "outputs": [
    {
     "data": {
      "text/plain": [
       "OPEID                            int64\n",
       "Name                            object\n",
       "Address                         object\n",
       "City                            object\n",
       "State                           object\n",
       "State Desc                      object\n",
       "Zip Code                        object\n",
       "Zip Ext                         object\n",
       "Prog\\nLength                     int64\n",
       "School\\nType                     int64\n",
       "Year 1                           int64\n",
       "\\nNum 1                          int64\n",
       "\\nDenom 1                        int64\n",
       "DRate 1                        float64\n",
       "PRate 1                         object\n",
       "Ethnic Code                      int64\n",
       "Cong Dis                        object\n",
       "Region                           int64\n",
       "Average or\\nGreater than 30      int64\n",
       "Rate Type                       object\n",
       "Year 2                           int64\n",
       "Dual\\nNum 2                    float64\n",
       "Dual\\nDenom 2                  float64\n",
       "DRate 2                        float64\n",
       "PRate 2                         object\n",
       "Year 3                           int64\n",
       "Dual\\nNum 3                    float64\n",
       "Dual\\nDenom 3                  float64\n",
       "DRate 3                        float64\n",
       "PRate 3                         object\n",
       "dtype: object"
      ]
     },
     "execution_count": 3,
     "metadata": {},
     "output_type": "execute_result"
    }
   ],
   "source": [
    "dataframe.dtypes"
   ]
  },
  {
   "cell_type": "markdown",
   "metadata": {},
   "source": [
    "## For 2013, what are the top 3 schools that have the highest number of borrowers in Default?##"
   ]
  },
  {
   "cell_type": "code",
   "execution_count": 4,
   "metadata": {
    "collapsed": false
   },
   "outputs": [
    {
     "data": {
      "text/html": [
       "<div>\n",
       "<table border=\"1\" class=\"dataframe\">\n",
       "  <thead>\n",
       "    <tr style=\"text-align: right;\">\n",
       "      <th></th>\n",
       "      <th>OPEID</th>\n",
       "      <th>Name</th>\n",
       "      <th>Address</th>\n",
       "      <th>City</th>\n",
       "      <th>State</th>\n",
       "      <th>State Desc</th>\n",
       "      <th>Zip Code</th>\n",
       "      <th>Zip Ext</th>\n",
       "      <th>Prog\n",
       "Length</th>\n",
       "      <th>School\n",
       "Type</th>\n",
       "      <th>...</th>\n",
       "      <th>Year 2</th>\n",
       "      <th>Dual\n",
       "Num 2</th>\n",
       "      <th>Dual\n",
       "Denom 2</th>\n",
       "      <th>DRate 2</th>\n",
       "      <th>PRate 2</th>\n",
       "      <th>Year 3</th>\n",
       "      <th>Dual\n",
       "Num 3</th>\n",
       "      <th>Dual\n",
       "Denom 3</th>\n",
       "      <th>DRate 3</th>\n",
       "      <th>PRate 3</th>\n",
       "    </tr>\n",
       "  </thead>\n",
       "  <tbody>\n",
       "  </tbody>\n",
       "</table>\n",
       "<p>0 rows × 30 columns</p>\n",
       "</div>"
      ],
      "text/plain": [
       "Empty DataFrame\n",
       "Columns: [OPEID, Name, Address, City, State, State Desc, Zip Code, Zip Ext, Prog\n",
       "Length, School\n",
       "Type, Year 1, \n",
       "Num 1, \n",
       "Denom 1, DRate 1, PRate 1, Ethnic Code, Cong Dis, Region, Average or\n",
       "Greater than 30, Rate Type, Year 2, Dual\n",
       "Num 2, Dual\n",
       "Denom 2, DRate 2, PRate 2, Year 3, Dual\n",
       "Num 3, Dual\n",
       "Denom 3, DRate 3, PRate 3]\n",
       "Index: []\n",
       "\n",
       "[0 rows x 30 columns]"
      ]
     },
     "execution_count": 4,
     "metadata": {},
     "output_type": "execute_result"
    }
   ],
   "source": [
    "dataframe[dataframe['Year 1'].isnull()]"
   ]
  },
  {
   "cell_type": "code",
   "execution_count": 5,
   "metadata": {
    "collapsed": false
   },
   "outputs": [
    {
     "name": "stdout",
     "output_type": "stream",
     "text": [
      "4464\n",
      "4759\n"
     ]
    }
   ],
   "source": [
    "print len(dataframe['Name'].unique())\n",
    "print len(dataframe)"
   ]
  },
  {
   "cell_type": "code",
   "execution_count": 6,
   "metadata": {
    "collapsed": false
   },
   "outputs": [
    {
     "data": {
      "text/plain": [
       "Index([u'\\nNum 1'], dtype='object')"
      ]
     },
     "execution_count": 6,
     "metadata": {},
     "output_type": "execute_result"
    }
   ],
   "source": [
    "dataframe.ix[0:,11:12].columns"
   ]
  },
  {
   "cell_type": "code",
   "execution_count": 7,
   "metadata": {
    "collapsed": false
   },
   "outputs": [
    {
     "name": "stdout",
     "output_type": "stream",
     "text": [
      "4345\n",
      "4637\n"
     ]
    }
   ],
   "source": [
    "df_notnull=dataframe[dataframe['\\nNum 1']!=0]\n",
    "\n",
    "print len(df_notnull['Name'].unique())\n",
    "print len(df_notnull)"
   ]
  },
  {
   "cell_type": "code",
   "execution_count": 8,
   "metadata": {
    "collapsed": false
   },
   "outputs": [
    {
     "name": "stderr",
     "output_type": "stream",
     "text": [
      "/Users/kyletoomey/anaconda/lib/python2.7/site-packages/ipykernel/__main__.py:2: FutureWarning: sort is deprecated, use sort_values(inplace=True) for INPLACE sorting\n",
      "  from ipykernel import kernelapp as app\n"
     ]
    },
    {
     "data": {
      "text/plain": [
       "Name\n",
       "UNIVERSITY OF PHOENIX                                                26004\n",
       "ITT TECHNICAL INSTITUTE                                              10726\n",
       "EVEREST UNIVERSITY                                                   10377\n",
       "Name: \\nNum 1, dtype: int64"
      ]
     },
     "execution_count": 8,
     "metadata": {},
     "output_type": "execute_result"
    }
   ],
   "source": [
    "df_default=df_notnull.groupby('Name')['\\nNum 1'].agg('sum')\n",
    "df_default.sort(ascending=False)\n",
    "df_default.head(3)"
   ]
  },
  {
   "cell_type": "markdown",
   "metadata": {},
   "source": [
    "## Which of the schools with Ethnic Code of “Hispanic” has the lowest CDR? (Ethnic Code == 3)##"
   ]
  },
  {
   "cell_type": "code",
   "execution_count": 9,
   "metadata": {
    "collapsed": false
   },
   "outputs": [],
   "source": [
    "df_Hispanic=dataframe[dataframe['Ethnic Code']==3]"
   ]
  },
  {
   "cell_type": "code",
   "execution_count": 10,
   "metadata": {
    "collapsed": false
   },
   "outputs": [
    {
     "name": "stdout",
     "output_type": "stream",
     "text": [
      "142\n",
      "142\n"
     ]
    }
   ],
   "source": [
    "print len(df_Hispanic)\n",
    "print len(df_Hispanic['Name'].unique())"
   ]
  },
  {
   "cell_type": "code",
   "execution_count": 11,
   "metadata": {
    "collapsed": false
   },
   "outputs": [
    {
     "name": "stderr",
     "output_type": "stream",
     "text": [
      "/Users/kyletoomey/anaconda/lib/python2.7/site-packages/ipykernel/__main__.py:1: SettingWithCopyWarning: \n",
      "A value is trying to be set on a copy of a slice from a DataFrame.\n",
      "Try using .loc[row_indexer,col_indexer] = value instead\n",
      "\n",
      "See the caveats in the documentation: http://pandas.pydata.org/pandas-docs/stable/indexing.html#indexing-view-versus-copy\n",
      "  if __name__ == '__main__':\n",
      "/Users/kyletoomey/anaconda/lib/python2.7/site-packages/ipykernel/__main__.py:3: FutureWarning: sort(columns=....) is deprecated, use sort_values(by=.....)\n",
      "  app.launch_new_instance()\n"
     ]
    },
    {
     "data": {
      "text/html": [
       "<div>\n",
       "<table border=\"1\" class=\"dataframe\">\n",
       "  <thead>\n",
       "    <tr style=\"text-align: right;\">\n",
       "      <th></th>\n",
       "      <th>Name</th>\n",
       "      <th>AVG_CDR</th>\n",
       "    </tr>\n",
       "  </thead>\n",
       "  <tbody>\n",
       "    <tr>\n",
       "      <th>4314</th>\n",
       "      <td>UNIVERSITY OF MIAMI                           ...</td>\n",
       "      <td>2.233333</td>\n",
       "    </tr>\n",
       "  </tbody>\n",
       "</table>\n",
       "</div>"
      ],
      "text/plain": [
       "                                                   Name   AVG_CDR\n",
       "4314  UNIVERSITY OF MIAMI                           ...  2.233333"
      ]
     },
     "execution_count": 11,
     "metadata": {},
     "output_type": "execute_result"
    }
   ],
   "source": [
    "df_Hispanic['AVG_CDR']=df_Hispanic[['DRate 3', 'DRate 2', 'DRate 1']].mean(axis=1)\n",
    "\n",
    "df_cdr=df_Hispanic[['Name','AVG_CDR']].sort(columns='AVG_CDR')\n",
    "\n",
    "df_cdr.head(1)"
   ]
  },
  {
   "cell_type": "markdown",
   "metadata": {},
   "source": [
    "## Between 2011 and 2013, which school has the largest increase in CDR?##"
   ]
  },
  {
   "cell_type": "code",
   "execution_count": 12,
   "metadata": {
    "collapsed": false
   },
   "outputs": [
    {
     "name": "stderr",
     "output_type": "stream",
     "text": [
      "/Users/kyletoomey/anaconda/lib/python2.7/site-packages/ipykernel/__main__.py:3: SettingWithCopyWarning: \n",
      "A value is trying to be set on a copy of a slice from a DataFrame.\n",
      "Try using .loc[row_indexer,col_indexer] = value instead\n",
      "\n",
      "See the caveats in the documentation: http://pandas.pydata.org/pandas-docs/stable/indexing.html#indexing-view-versus-copy\n",
      "  app.launch_new_instance()\n",
      "/Users/kyletoomey/anaconda/lib/python2.7/site-packages/ipykernel/__main__.py:5: FutureWarning: sort(columns=....) is deprecated, use sort_values(by=.....)\n"
     ]
    },
    {
     "data": {
      "text/html": [
       "<div>\n",
       "<table border=\"1\" class=\"dataframe\">\n",
       "  <thead>\n",
       "    <tr style=\"text-align: right;\">\n",
       "      <th></th>\n",
       "      <th>Name</th>\n",
       "      <th>DRate 1</th>\n",
       "      <th>DRate 3</th>\n",
       "      <th>increase_CDR</th>\n",
       "    </tr>\n",
       "  </thead>\n",
       "  <tbody>\n",
       "    <tr>\n",
       "      <th>0</th>\n",
       "      <td>LARRY'S BARBER COLLEGE                        ...</td>\n",
       "      <td>48.3</td>\n",
       "      <td>0.0</td>\n",
       "      <td>48.3</td>\n",
       "    </tr>\n",
       "  </tbody>\n",
       "</table>\n",
       "</div>"
      ],
      "text/plain": [
       "                                                Name  DRate 1  DRate 3  \\\n",
       "0  LARRY'S BARBER COLLEGE                        ...     48.3      0.0   \n",
       "\n",
       "   increase_CDR  \n",
       "0          48.3  "
      ]
     },
     "execution_count": 12,
     "metadata": {},
     "output_type": "execute_result"
    }
   ],
   "source": [
    "df_drate=dataframe[['Name', 'DRate 1', 'DRate 3']]\n",
    "\n",
    "df_drate['increase_CDR']=df_drate['DRate 1']-df_drate['DRate 3']\n",
    "\n",
    "df_drate.sort(columns='increase_CDR', ascending=False).head(1)"
   ]
  },
  {
   "cell_type": "markdown",
   "metadata": {},
   "source": [
    "## Which state has the most “proprietary” schools (SchoolType == 3)?"
   ]
  },
  {
   "cell_type": "code",
   "execution_count": 13,
   "metadata": {
    "collapsed": false
   },
   "outputs": [
    {
     "name": "stderr",
     "output_type": "stream",
     "text": [
      "/Users/kyletoomey/anaconda/lib/python2.7/site-packages/ipykernel/__main__.py:7: FutureWarning: sort is deprecated, use sort_values(inplace=True) for INPLACE sorting\n"
     ]
    },
    {
     "data": {
      "text/plain": [
       "State\n",
       "CA    189.0\n",
       "Name: School\\nType, dtype: float64"
      ]
     },
     "execution_count": 13,
     "metadata": {},
     "output_type": "execute_result"
    }
   ],
   "source": [
    "df_schooltype=dataframe[['State', 'School\\nType']]\n",
    "\n",
    "type_3=df_schooltype[df_schooltype['School\\nType']==3]\n",
    "\n",
    "type_3=type_3.groupby('State')['School\\nType'].agg('sum')/3\n",
    "\n",
    "type_3.sort(ascending=False)\n",
    "type_3.head(1)"
   ]
  },
  {
   "cell_type": "markdown",
   "metadata": {},
   "source": [
    "## Which state’s schools have the highest average CDR?"
   ]
  },
  {
   "cell_type": "code",
   "execution_count": 14,
   "metadata": {
    "collapsed": false
   },
   "outputs": [],
   "source": [
    "df_cdr_state=dataframe[['State','Name','DRate 3', 'DRate 2', 'DRate 1']]"
   ]
  },
  {
   "cell_type": "code",
   "execution_count": 15,
   "metadata": {
    "collapsed": false
   },
   "outputs": [
    {
     "name": "stderr",
     "output_type": "stream",
     "text": [
      "/Users/kyletoomey/anaconda/lib/python2.7/site-packages/ipykernel/__main__.py:1: SettingWithCopyWarning: \n",
      "A value is trying to be set on a copy of a slice from a DataFrame.\n",
      "Try using .loc[row_indexer,col_indexer] = value instead\n",
      "\n",
      "See the caveats in the documentation: http://pandas.pydata.org/pandas-docs/stable/indexing.html#indexing-view-versus-copy\n",
      "  if __name__ == '__main__':\n"
     ]
    }
   ],
   "source": [
    "df_cdr_state['avg_cdr']=df_cdr_state[['DRate 3', 'DRate 2', 'DRate 1']].mean(axis=1)"
   ]
  },
  {
   "cell_type": "code",
   "execution_count": 16,
   "metadata": {
    "collapsed": false
   },
   "outputs": [
    {
     "name": "stdout",
     "output_type": "stream",
     "text": [
      "4759\n",
      "4464\n"
     ]
    }
   ],
   "source": [
    "print len(df_cdr_state)\n",
    "print len(df_cdr_state['Name'].unique())"
   ]
  },
  {
   "cell_type": "code",
   "execution_count": 17,
   "metadata": {
    "collapsed": false
   },
   "outputs": [],
   "source": [
    "mean_by_state=df_cdr_state.groupby('State').mean()"
   ]
  },
  {
   "cell_type": "code",
   "execution_count": 18,
   "metadata": {
    "collapsed": false
   },
   "outputs": [
    {
     "name": "stderr",
     "output_type": "stream",
     "text": [
      "/Users/kyletoomey/anaconda/lib/python2.7/site-packages/ipykernel/__main__.py:1: FutureWarning: sort(columns=....) is deprecated, use sort_values(by=.....)\n",
      "  if __name__ == '__main__':\n"
     ]
    },
    {
     "data": {
      "text/html": [
       "<div>\n",
       "<table border=\"1\" class=\"dataframe\">\n",
       "  <thead>\n",
       "    <tr style=\"text-align: right;\">\n",
       "      <th></th>\n",
       "      <th>DRate 3</th>\n",
       "      <th>DRate 2</th>\n",
       "      <th>DRate 1</th>\n",
       "      <th>avg_cdr</th>\n",
       "    </tr>\n",
       "    <tr>\n",
       "      <th>State</th>\n",
       "      <th></th>\n",
       "      <th></th>\n",
       "      <th></th>\n",
       "      <th></th>\n",
       "    </tr>\n",
       "  </thead>\n",
       "  <tbody>\n",
       "    <tr>\n",
       "      <th>WV</th>\n",
       "      <td>18.789362</td>\n",
       "      <td>16.029787</td>\n",
       "      <td>14.910638</td>\n",
       "      <td>16.576596</td>\n",
       "    </tr>\n",
       "  </tbody>\n",
       "</table>\n",
       "</div>"
      ],
      "text/plain": [
       "         DRate 3    DRate 2    DRate 1    avg_cdr\n",
       "State                                            \n",
       "WV     18.789362  16.029787  14.910638  16.576596"
      ]
     },
     "execution_count": 18,
     "metadata": {},
     "output_type": "execute_result"
    }
   ],
   "source": [
    "mean_by_state.sort(columns='avg_cdr', ascending=False).head(1)"
   ]
  }
 ],
 "metadata": {
  "anaconda-cloud": {},
  "kernelspec": {
   "display_name": "Python [Root]",
   "language": "python",
   "name": "Python [Root]"
  },
  "language_info": {
   "codemirror_mode": {
    "name": "ipython",
    "version": 2
   },
   "file_extension": ".py",
   "mimetype": "text/x-python",
   "name": "python",
   "nbconvert_exporter": "python",
   "pygments_lexer": "ipython2",
   "version": "2.7.12"
  }
 },
 "nbformat": 4,
 "nbformat_minor": 0
}
