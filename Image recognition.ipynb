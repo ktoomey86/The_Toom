{
 "cells": [
  {
   "cell_type": "markdown",
   "metadata": {},
   "source": [
    "i think we will want to use DBscan to get a density reading.\n",
    "first we need to get the image into an array then test for clustering.\n"
   ]
  },
  {
   "cell_type": "code",
   "execution_count": 1,
   "metadata": {
    "collapsed": false
   },
   "outputs": [],
   "source": [
    "import numpy as np\n",
    "# from PIL import Image\n",
    "# import pytesser\n",
    "import cv\n",
    "from __future__ import print_function, division\n",
    "\n",
    "import numpy as np\n",
    "import pandas as pd\n",
    "\n",
    "import matplotlib.pyplot as plt\n",
    "%matplotlib inline\n",
    "\n",
    "from sklearn.cluster import DBSCAN\n",
    "from sklearn.datasets.samples_generator import make_blobs\n",
    "from sklearn.preprocessing import StandardScaler"
   ]
  },
  {
   "cell_type": "code",
   "execution_count": 4,
   "metadata": {
    "collapsed": false
   },
   "outputs": [
    {
     "data": {
      "text/plain": [
       "<module 'cv' from '/usr/local/lib/python2.7/site-packages/cv.pyc'>"
      ]
     },
     "execution_count": 4,
     "metadata": {},
     "output_type": "execute_result"
    }
   ],
   "source": []
  },
  {
   "cell_type": "code",
   "execution_count": 2,
   "metadata": {
    "collapsed": false
   },
   "outputs": [],
   "source": [
    "# img = Image.open('denver_stadium.png').convert('RGBA')\n",
    "# arr = np.array(img)\n",
    "\n",
    "# # record the original shape\n",
    "# shape = arr.shape\n",
    "\n",
    "# # make a 1-dimensional view of arr\n",
    "# flat_arr = arr.ravel()\n",
    "\n",
    "# # convert it to a matrix\n",
    "# vector = np.matrix(flat_arr)\n",
    "\n",
    "# # do something to the vector\n",
    "\n",
    "\n",
    "# # reform a numpy array of the original shape\n",
    "# arr2 = np.asarray(vector).reshape(shape)\n",
    "\n",
    "# # make a PIL image\n",
    "# img2 = Image.fromarray(arr2, 'RGBA')\n",
    "# img2.show()"
   ]
  },
  {
   "cell_type": "code",
   "execution_count": 3,
   "metadata": {
    "collapsed": false
   },
   "outputs": [],
   "source": [
    "# im = Image.open('wjNL6.jpg')\n",
    "# text = image_to_string(im)\n",
    "# print text"
   ]
  },
  {
   "cell_type": "code",
   "execution_count": null,
   "metadata": {
    "collapsed": true
   },
   "outputs": [],
   "source": []
  }
 ],
 "metadata": {
  "anaconda-cloud": {},
  "kernelspec": {
   "display_name": "Python [Root]",
   "language": "python",
   "name": "Python [Root]"
  },
  "language_info": {
   "codemirror_mode": {
    "name": "ipython",
    "version": 2
   },
   "file_extension": ".py",
   "mimetype": "text/x-python",
   "name": "python",
   "nbconvert_exporter": "python",
   "pygments_lexer": "ipython2",
   "version": "2.7.12"
  }
 },
 "nbformat": 4,
 "nbformat_minor": 0
}
