{
 "cells": [
  {
   "cell_type": "code",
   "execution_count": 1,
   "metadata": {
    "collapsed": false
   },
   "outputs": [],
   "source": [
    "from bs4 import BeautifulSoup\n",
    "from collections import Counter\n",
    "import re\n",
    "import requests\n"
   ]
  },
  {
   "cell_type": "code",
   "execution_count": 2,
   "metadata": {
    "collapsed": false,
    "scrolled": false
   },
   "outputs": [
    {
     "name": "stderr",
     "output_type": "stream",
     "text": [
      "/Users/kyletoomey/anaconda/lib/python2.7/site-packages/bs4/__init__.py:166: UserWarning: No parser was explicitly specified, so I'm using the best available HTML parser for this system (\"lxml\"). This usually isn't a problem, but if you run this code on another system, or in a different virtual environment, it may use a different parser and behave differently.\n",
      "\n",
      "To get rid of this warning, change this:\n",
      "\n",
      " BeautifulSoup([your markup])\n",
      "\n",
      "to this:\n",
      "\n",
      " BeautifulSoup([your markup], \"lxml\")\n",
      "\n",
      "  markup_type=markup_type))\n"
     ]
    }
   ],
   "source": [
    "url = 'https://www.uber.com/careers/list/26581/'\n",
    "response = requests.get(url)\n",
    "html_doc= response.text\n",
    "soup = BeautifulSoup(html_doc)\n",
    "# print soup.prettify()"
   ]
  },
  {
   "cell_type": "code",
   "execution_count": 3,
   "metadata": {
    "collapsed": false
   },
   "outputs": [
    {
     "name": "stdout",
     "output_type": "stream",
     "text": [
      "Counter({'font-family:': 49, 'color:': 49, 'Arial;': 49, 'style=\"font-size:': 49, 'font-weight:': 49, '#000000;': 49, '12px;': 49, 'and': 36, 'to': 25, '<span': 22, 'the': 20, '400;\"><span': 13, '<li': 13, 'of': 11, 'data': 10, 'a': 10, 'with': 8, 'business': 7, 'support': 7, 'that': 7, 'in': 7, 'new': 6, 'decisions': 5, 'analytical': 5, 'for': 5, 'you': 5, '400;\">Experience': 4, 'make': 4, 'highly': 4, 'management': 4, 'experience': 4, 'will': 4, 'more': 4, 'other': 4, 'drive': 4, 'candidate': 3, 'using': 3, 'Operations': 3, 'skills': 3, 'are': 3, 'communicate': 3, 'strong': 3, 'or': 3, 'strategic': 3, 'company': 3, 'this': 3, 'Community': 3, 'inform': 3, 'operations': 2, 'help': 2, 'intelligence,': 2, 'years': 2, '/': 2, '400;\">Ability': 2, 'impact': 2, 'some': 2, 'familiarity,': 2, 'languages': 2, 'equity': 2, 'policy': 2, 'assist': 2, 'global': 2, 'around': 2, 'process,': 2, 'preferred': 2, 'working': 2, '400;\">WHAT': 2, 'closely': 2, 'processes</span>,': 2, '400;\">Coordinate': 2, 'technology,': 2, 'success': 2, 'always': 2, 'Global': 2, 'specific': 2, 'are.': 2, 'investigate': 2, 'self-serve,': 2, 'Excel': 2, '400;\">Work': 2, 'service': 2, 'maintain,': 2, 'measure': 2, 'happen': 2, 'investment': 2, 'and/or': 2, 'truly': 2, 'Python': 2, 'passion': 2, '400;\">Skill': 2, 'get': 2, 'processes</span></li>,': 2, 'we': 2, 'reporting': 2, 'use': 2, '400;\">Build,': 2, 'efficiency': 2, 'growth,': 2, 'members': 2, 'Team': 2, 'improve': 2, '(contact': 2, 'Business': 2, 'there\\\\u2019s': 2, 'programming': 2, 'city-level,': 2, 'products': 2, 'detailed': 2, 'understanding': 2, 'Self-starter': 2, '400;\">Identify': 2, 'operational': 2, 'impressive': 2, '400;\">SQL': 2, 'environment': 2, 'fluency': 2, 'they': 2, 'strategy': 2, '-': 2, 'few': 2, 'much': 2, '400;\">Develop': 2, 'role.': 2, 'markets': 2, 'consulting,': 2, 'YOU\\\\u2019LL': 2, 'great': 2, 'innovate': 2, 'Zendesk': 2, '400;\">2-5': 2, 'R': 2, 'know-how': 2, '(and': 2, 'insights': 2, 'projects/experiments': 2, 'need': 2, 'require': 2, 'as': 2, 'frameworks': 2, '400;\">Exceptional': 2, 'Ideal': 2, 'say': 2, 'is': 2, 'it': 2, 'API': 2, 'analysis': 2, 'have': 2, 'Excel,': 2, 'provide': 2, 'drivers': 2, 'regional,': 2, '400;\">Drive': 2, 'take': 2, 'brings': 2, 'many': 2, 'models': 2, 'weaknesses': 2, 'Lines': 2, 'important': 2, 'decisions;': 2, 'banking/private': 2, 'improving': 2, 'such': 2, 'on': 2, 'attitude': 2, 'effective': 2, 'High': 2, 'presenting': 2, 'at': 2, 'analytics,': 2, 'riders</span>,': 1, 'etc.)</span></li>,': 1, '400;\">Unlimited': 1, 'policy;': 1, 'Business/Economics,': 1, 'executor?': 1, 'deep': 1, 'startups': 1, 'customer.': 1, 'knowledge': 1, 'information.</span>,': 1, 'solving': 1, 'should': 1, 'habits,': 1, 'world.': 1, 'Analyst': 1, 'needs.</span>,': 1, 'model</span>,': 1, '400;\">401(k)': 1, 'processes': 1, 'foremost': 1, 'visually</span></li>,': 1, 'every': 1, 'bringing': 1, 'let\\\\u2019s': 1, '400;\">Passionate': 1, 'We': 1, 'Mathematics)': 1, 'it.</span>,': 1, 'Are': 1, 'team': 1, 'time-management': 1, '400;\">PERKS</span>,': 1, 'ten': 1, 'be': 1, '(Science,': 1, 'Engineering,': 1, 'our': 1, 'best': 1, 'product,': 1, 'mindset,': 1, 'player,': 1, 'creative': 1, 'when': 1, 'critical': 1, 'required</span>,': 1, 'fit': 1, 'approach': 1, 'simultaneously': 1, 'ability': 1, 'city': 1, 'required</span></li>,': 1, '400;\">We\\'re': 1, 'paid': 1, 'must!</span></li>,': 1, 'talk.</span>,': 1, 'skills,': 1, 'about': 1, 'support,': 1, 'package': 1, 'informing': 1, 'turn': 1, 'skills?': 1, 'riders</span></li>,': 1, '400;\">The': 1, 'plan,': 1, 'background.</span>,': 1, 'products</span></li>,': 1, 'first': 1, 'major': 1, 'visually</span>,': 1, '[<span': 1, 'into': 1, 'within': 1, 'medical/dental/vision': 1, 'etc.)</span>,': 1, '400;\">Bachelor\\\\u2019s': 1, 'improvements': 1, 'Degrees': 1, 'your': 1, 'given': 1, 'thinker,': 1, 'vacation': 1, 'live': 1, 'breathe': 1, 'Uber': 1, 'learn)</span>,': 1, 'agent,': 1, 'DO</span>,': 1, 'information?': 1, 'preferred.</span></li>,': 1, 'agent': 1, 'excellent': 1, 'line': 1, 'present': 1, 'customer': 1, 'products</span>,': 1, 'reimbursement,': 1, 'work': 1, 'holidays.</span>,': 1, 'policies': 1, 'high-growth': 1, 'problem': 1, 'similar': 1, 'background.</span></li>,': 1, 'strategist,': 1, 'process': 1, 'proven': 1, 'STEM': 1, 'raw': 1, 'organizational': 1, 'You': 1, 'any': 1, 'hard': 1, 'Technology,': 1, 'Do': 1, 'brains': 1, 'fields</span>,': 1, '400;\">Full': 1, 'clearly': 1, 'style.</span>]': 1, 'ideal': 1, 'role': 1, 'gym': 1, 'Then': 1, 'business.': 1, 'managers</span></li>,': 1, 'business,': 1, 'driven': 1, 'managers</span>,': 1, 'The': 1, 'meaningful': 1, 'NEED</span>,': 1, 'must!</span>,': 1, 'Degree': 1, 'model</span></li>,': 1, 'preferred.</span>,': 1, 'learn)</span></li>,': 1, 'time': 1, 'organization': 1})\n"
     ]
    }
   ],
   "source": [
    "spantags=soup.findAll(style=\"font-size: 12px; font-family: Arial; color: #000000; font-weight: 400;\")\n",
    "\n",
    "Q=str(spantags)\n",
    "\n",
    "QA=Counter(Q.split())\n",
    "\n",
    "print QA\n"
   ]
  }
 ],
 "metadata": {
  "anaconda-cloud": {},
  "kernelspec": {
   "display_name": "Python [Root]",
   "language": "python",
   "name": "Python [Root]"
  },
  "language_info": {
   "codemirror_mode": {
    "name": "ipython",
    "version": 2
   },
   "file_extension": ".py",
   "mimetype": "text/x-python",
   "name": "python",
   "nbconvert_exporter": "python",
   "pygments_lexer": "ipython2",
   "version": "2.7.12"
  }
 },
 "nbformat": 4,
 "nbformat_minor": 0
}
